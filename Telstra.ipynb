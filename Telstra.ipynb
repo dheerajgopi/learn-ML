{
 "cells": [
  {
   "cell_type": "code",
   "execution_count": 1,
   "metadata": {
    "collapsed": false
   },
   "outputs": [],
   "source": [
    "import pandas as pd\n",
    "import numpy as np\n",
    "import matplotlib.pyplot as plt\n",
    "\n",
    "from sklearn.model_selection import train_test_split\n",
    "from sklearn.tree import DecisionTreeClassifier\n",
    "from sklearn.ensemble import RandomForestClassifier\n",
    "from sklearn.metrics import classification_report, confusion_matrix\n",
    "from sklearn.multiclass import OneVsRestClassifier\n",
    "from sklearn.svm import LinearSVC\n",
    "\n",
    "%matplotlib inline\n",
    "plt.style.use('ggplot')"
   ]
  },
  {
   "cell_type": "code",
   "execution_count": 2,
   "metadata": {
    "collapsed": false
   },
   "outputs": [
    {
     "name": "stdout",
     "output_type": "stream",
     "text": [
      "train_df (7381, 3)\n",
      "test_df (11171, 2)\n",
      "event_df (31170, 2)\n",
      "log_df (58671, 3)\n",
      "resource_df (21076, 2)\n",
      "severity_df (18552, 2)\n"
     ]
    }
   ],
   "source": [
    "train_df = pd.read_csv('dataset/telstra/train.csv')\n",
    "print 'train_df', train_df.shape\n",
    "test_df = pd.read_csv('dataset/telstra/test.csv')\n",
    "print 'test_df', test_df.shape\n",
    "event_df = pd.read_csv('dataset/telstra/event_type.csv')\n",
    "print 'event_df', event_df.shape\n",
    "log_df = pd.read_csv('dataset/telstra/log_feature.csv')\n",
    "print 'log_df', log_df.shape\n",
    "resource_df = pd.read_csv('dataset/telstra/resource_type.csv')\n",
    "print 'resource_df', resource_df.shape\n",
    "severity_df = pd.read_csv('dataset/telstra/severity_type.csv')\n",
    "print 'severity_df', severity_df.shape"
   ]
  },
  {
   "cell_type": "code",
   "execution_count": 3,
   "metadata": {
    "collapsed": false
   },
   "outputs": [],
   "source": [
    "# Set 'id' as index\n",
    "train_df.set_index('id', drop=True, inplace=True)\n",
    "test_df.set_index('id', drop=True, inplace=True)\n",
    "event_df.set_index('id', drop=True, inplace=True)\n",
    "log_df.set_index('id', drop=True, inplace=True)\n",
    "resource_df.set_index('id', drop=True, inplace=True)\n",
    "severity_df.set_index('id', drop=True, inplace=True)"
   ]
  },
  {
   "cell_type": "code",
   "execution_count": 4,
   "metadata": {
    "collapsed": false
   },
   "outputs": [],
   "source": [
    "# Drop target variable from training set\n",
    "y = train_df['fault_severity']\n",
    "train_df.drop('fault_severity', axis=1, inplace=True)\n",
    "all_data = pd.concat([train_df, test_df])"
   ]
  },
  {
   "cell_type": "code",
   "execution_count": 5,
   "metadata": {
    "collapsed": false
   },
   "outputs": [],
   "source": [
    "# Categorize and create dummy variables for each categorical features\n",
    "# Creating dummy variables will increase the number of features (since features are very less here).\n",
    "all_data['location'] = all_data['location'].astype('category')\n",
    "all_data = pd.get_dummies(all_data)\n",
    "event_df['event_type'] = event_df['event_type'].astype('category')\n",
    "event_df = pd.get_dummies(event_df)\n",
    "resource_df['resource_type'] = resource_df['resource_type'].astype('category')\n",
    "resource_df = pd.get_dummies(resource_df)\n",
    "severity_df['severity_type'] = severity_df['severity_type'].astype('category')\n",
    "severity_df = pd.get_dummies(severity_df)"
   ]
  },
  {
   "cell_type": "code",
   "execution_count": 6,
   "metadata": {
    "collapsed": false
   },
   "outputs": [],
   "source": [
    "# Remove duplicate ids\n",
    "events = event_df.reset_index().groupby('id').agg(np.sum)\n",
    "resources = resource_df.reset_index().groupby('id').agg(np.sum)\n",
    "severities = severity_df.reset_index().groupby('id').agg(np.sum)"
   ]
  },
  {
   "cell_type": "code",
   "execution_count": 7,
   "metadata": {
    "collapsed": false
   },
   "outputs": [],
   "source": [
    "# Join every features into a single dataframe\n",
    "all_data = pd.merge(all_data, events, left_index=True, right_index=True, how='inner')\n",
    "all_data = pd.merge(all_data, resources, left_index=True, right_index=True, how='inner')\n",
    "all_data = pd.merge(all_data, severities, left_index=True, right_index=True, how='inner')"
   ]
  },
  {
   "cell_type": "code",
   "execution_count": 8,
   "metadata": {
    "collapsed": false
   },
   "outputs": [],
   "source": [
    "# Split again into train and test dataframes\n",
    "train = all_data.loc[train_df.index]\n",
    "test = all_data.loc[test_df.index]"
   ]
  },
  {
   "cell_type": "code",
   "execution_count": 9,
   "metadata": {
    "collapsed": true
   },
   "outputs": [],
   "source": [
    "X_train, X_cv, y_train, y_cv = train_test_split(train, y, test_size=0.3, random_state=7)"
   ]
  },
  {
   "cell_type": "code",
   "execution_count": 10,
   "metadata": {
    "collapsed": false
   },
   "outputs": [],
   "source": [
    "n_splits = np.arange(2, 50, 2)\n",
    "scores = []\n",
    "for n in n_splits:\n",
    "    dtc = DecisionTreeClassifier(min_samples_split=n)\n",
    "    dtc.fit(X_train, y_train)\n",
    "    score = dtc.score(X_cv, y_cv)\n",
    "    scores.append(score)"
   ]
  },
  {
   "cell_type": "code",
   "execution_count": 11,
   "metadata": {
    "collapsed": false
   },
   "outputs": [],
   "source": [
    "best_split = n_splits[scores.index(max(scores))]\n",
    "\n",
    "dtc = DecisionTreeClassifier(min_samples_split=best_split)\n",
    "dtc.fit(X_train, y_train)\n",
    "y_cv_pred = dtc.predict(X_cv)"
   ]
  },
  {
   "cell_type": "code",
   "execution_count": 12,
   "metadata": {
    "collapsed": false
   },
   "outputs": [
    {
     "name": "stdout",
     "output_type": "stream",
     "text": [
      "classification report\n",
      "             precision    recall  f1-score   support\n",
      "\n",
      "          0       0.73      0.85      0.79      1401\n",
      "          1       0.46      0.30      0.36       585\n",
      "          2       0.47      0.39      0.43       229\n",
      "\n",
      "avg / total       0.63      0.66      0.64      2215\n",
      "\n",
      "confusion matrix\n",
      "[[1196  157   48]\n",
      " [ 354  176   55]\n",
      " [  88   51   90]]\n"
     ]
    }
   ],
   "source": [
    "print \"classification report\"\n",
    "print classification_report(y_cv, y_cv_pred)\n",
    "print \"confusion matrix\"\n",
    "print confusion_matrix(y_cv, y_cv_pred)"
   ]
  },
  {
   "cell_type": "code",
   "execution_count": 13,
   "metadata": {
    "collapsed": false
   },
   "outputs": [
    {
     "data": {
      "text/html": [
       "<div>\n",
       "<table border=\"1\" class=\"dataframe\">\n",
       "  <thead>\n",
       "    <tr style=\"text-align: right;\">\n",
       "      <th>Predicted</th>\n",
       "      <th>0</th>\n",
       "      <th>1</th>\n",
       "      <th>2</th>\n",
       "      <th>All</th>\n",
       "    </tr>\n",
       "    <tr>\n",
       "      <th>True</th>\n",
       "      <th></th>\n",
       "      <th></th>\n",
       "      <th></th>\n",
       "      <th></th>\n",
       "    </tr>\n",
       "  </thead>\n",
       "  <tbody>\n",
       "    <tr>\n",
       "      <th>0</th>\n",
       "      <td>1196</td>\n",
       "      <td>157</td>\n",
       "      <td>48</td>\n",
       "      <td>1401</td>\n",
       "    </tr>\n",
       "    <tr>\n",
       "      <th>1</th>\n",
       "      <td>354</td>\n",
       "      <td>176</td>\n",
       "      <td>55</td>\n",
       "      <td>585</td>\n",
       "    </tr>\n",
       "    <tr>\n",
       "      <th>2</th>\n",
       "      <td>88</td>\n",
       "      <td>51</td>\n",
       "      <td>90</td>\n",
       "      <td>229</td>\n",
       "    </tr>\n",
       "    <tr>\n",
       "      <th>All</th>\n",
       "      <td>1638</td>\n",
       "      <td>384</td>\n",
       "      <td>193</td>\n",
       "      <td>2215</td>\n",
       "    </tr>\n",
       "  </tbody>\n",
       "</table>\n",
       "</div>"
      ],
      "text/plain": [
       "Predicted     0    1    2   All\n",
       "True                           \n",
       "0          1196  157   48  1401\n",
       "1           354  176   55   585\n",
       "2            88   51   90   229\n",
       "All        1638  384  193  2215"
      ]
     },
     "execution_count": 13,
     "metadata": {},
     "output_type": "execute_result"
    }
   ],
   "source": [
    "# This is how we read confusion matrix\n",
    "pd.crosstab(y_cv, y_cv_pred, rownames=['True'], colnames=['Predicted'], margins=True)"
   ]
  },
  {
   "cell_type": "code",
   "execution_count": 14,
   "metadata": {
    "collapsed": false
   },
   "outputs": [],
   "source": [
    "# Solution\n",
    "y_test = dtc.predict(test)\n",
    "sol = pd.DataFrame({'id': test.index, 'predict': y_test})\n",
    "sol = sol.set_index('id')\n",
    "sol['predict'] = sol['predict'].astype('category')\n",
    "sol = pd.get_dummies(sol)\n",
    "sol.to_csv('outputs/telstra.csv')"
   ]
  }
 ],
 "metadata": {
  "kernelspec": {
   "display_name": "Python 2",
   "language": "python",
   "name": "python2"
  },
  "language_info": {
   "codemirror_mode": {
    "name": "ipython",
    "version": 2
   },
   "file_extension": ".py",
   "mimetype": "text/x-python",
   "name": "python",
   "nbconvert_exporter": "python",
   "pygments_lexer": "ipython2",
   "version": "2.7.6"
  }
 },
 "nbformat": 4,
 "nbformat_minor": 0
}
