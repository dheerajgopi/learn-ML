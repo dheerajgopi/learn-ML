{
 "cells": [
  {
   "cell_type": "code",
   "execution_count": 1,
   "metadata": {
    "collapsed": false
   },
   "outputs": [
    {
     "name": "stderr",
     "output_type": "stream",
     "text": [
      "/home/dheeraj/repos/learn-ML/env/local/lib/python2.7/site-packages/matplotlib/font_manager.py:273: UserWarning: Matplotlib is building the font cache using fc-list. This may take a moment.\n",
      "  warnings.warn('Matplotlib is building the font cache using fc-list. This may take a moment.')\n"
     ]
    }
   ],
   "source": [
    "import pandas as pd\n",
    "import numpy as np\n",
    "import matplotlib.pyplot as plt\n",
    "\n",
    "from sklearn.svm import SVC\n",
    "\n",
    "%matplotlib inline\n",
    "plt.style.use('ggplot')"
   ]
  },
  {
   "cell_type": "code",
   "execution_count": 2,
   "metadata": {
    "collapsed": false
   },
   "outputs": [
    {
     "name": "stdout",
     "output_type": "stream",
     "text": [
      "train_df (7381, 3)\n",
      "test_df (11171, 2)\n",
      "event_df (31170, 2)\n",
      "log_df (58671, 3)\n",
      "resource_df (21076, 2)\n",
      "severity_df (18552, 2)\n"
     ]
    }
   ],
   "source": [
    "train_df = pd.read_csv('dataset/telstra/train.csv')\n",
    "print 'train_df', train_df.shape\n",
    "test_df = pd.read_csv('dataset/telstra/test.csv')\n",
    "print 'test_df', test_df.shape\n",
    "event_df = pd.read_csv('dataset/telstra/event_type.csv')\n",
    "print 'event_df', event_df.shape\n",
    "log_df = pd.read_csv('dataset/telstra/log_feature.csv')\n",
    "print 'log_df', log_df.shape\n",
    "resource_df = pd.read_csv('dataset/telstra/resource_type.csv')\n",
    "print 'resource_df', resource_df.shape\n",
    "severity_df = pd.read_csv('dataset/telstra/severity_type.csv')\n",
    "print 'severity_df', severity_df.shape"
   ]
  },
  {
   "cell_type": "code",
   "execution_count": 3,
   "metadata": {
    "collapsed": false
   },
   "outputs": [],
   "source": [
    "# Set 'id' as index\n",
    "train_df.set_index('id', drop=True, inplace=True)\n",
    "test_df.set_index('id', drop=True, inplace=True)\n",
    "event_df.set_index('id', drop=True, inplace=True)\n",
    "log_df.set_index('id', drop=True, inplace=True)\n",
    "resource_df.set_index('id', drop=True, inplace=True)\n",
    "severity_df.set_index('id', drop=True, inplace=True)"
   ]
  },
  {
   "cell_type": "code",
   "execution_count": 4,
   "metadata": {
    "collapsed": false
   },
   "outputs": [],
   "source": [
    "# Drop target variable from training set\n",
    "y = train_df['fault_severity']\n",
    "train_df.drop('fault_severity', axis=1, inplace=True)\n",
    "all_data = pd.concat([train_df, test_df])"
   ]
  },
  {
   "cell_type": "code",
   "execution_count": 5,
   "metadata": {
    "collapsed": false
   },
   "outputs": [],
   "source": [
    "all_data['location'] = all_data['location'].astype('category')\n",
    "all_data = pd.get_dummies(all_data)\n",
    "event_df['event_type'] = event_df['event_type'].astype('category')\n",
    "event_df = pd.get_dummies(event_df)\n",
    "resource_df['resource_type'] = resource_df['resource_type'].astype('category')\n",
    "resource_df = pd.get_dummies(resource_df)\n",
    "severity_df['severity_type'] = severity_df['severity_type'].astype('category')\n",
    "severity_df = pd.get_dummies(severity_df)"
   ]
  },
  {
   "cell_type": "code",
   "execution_count": 6,
   "metadata": {
    "collapsed": false
   },
   "outputs": [],
   "source": [
    "# all_data = pd.merge(all_data, event_df, left_index=True, right_index=True, how='inner')\n",
    "# all_data = pd.merge(all_data, resource_df, left_index=True, right_index=True, how='inner')\n",
    "# all_data = pd.merge(all_data, severity_df, left_index=True, right_index=True, how='inner')"
   ]
  },
  {
   "cell_type": "code",
   "execution_count": 7,
   "metadata": {
    "collapsed": false
   },
   "outputs": [],
   "source": [
    "# all_data = pd.merge(all_data, event_df, left_on='id', right_on='id', how='left')\n",
    "# all_data = pd.merge(all_data, resource_df, left_on='id', right_on='id', how='left')\n",
    "# all_data = pd.merge(all_data, severity_df, left_on='id', right_on='id', how='left')\n",
    "\n",
    "# pd.merge(all_data, event_df, left_on='id', right_on='id', how='left').head()\n",
    "# l = all_data.reset_index()\n",
    "# r = event_df.reset_index()\n",
    "# pd.merge(l, r, left_on='id', right_on='id', how='inner').head()"
   ]
  },
  {
   "cell_type": "code",
   "execution_count": 10,
   "metadata": {
    "collapsed": false
   },
   "outputs": [],
   "source": [
    "all_data_index = all_data.index\n",
    "events = event_df.loc[all_data_index]\n",
    "resources = resource_df.loc[all_data_index]\n",
    "severities = severity_df.loc[all_data_index]"
   ]
  },
  {
   "cell_type": "code",
   "execution_count": 30,
   "metadata": {
    "collapsed": false
   },
   "outputs": [
    {
     "data": {
      "text/plain": [
       "(31170, 53)"
      ]
     },
     "execution_count": 30,
     "metadata": {},
     "output_type": "execute_result"
    }
   ],
   "source": [
    "a = all_data\n",
    "event_cols = events.columns.values\n",
    "events.shape"
   ]
  }
 ],
 "metadata": {
  "kernelspec": {
   "display_name": "Python 2",
   "language": "python",
   "name": "python2"
  },
  "language_info": {
   "codemirror_mode": {
    "name": "ipython",
    "version": 2
   },
   "file_extension": ".py",
   "mimetype": "text/x-python",
   "name": "python",
   "nbconvert_exporter": "python",
   "pygments_lexer": "ipython2",
   "version": "2.7.6"
  }
 },
 "nbformat": 4,
 "nbformat_minor": 0
}
