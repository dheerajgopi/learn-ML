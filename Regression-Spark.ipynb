{
 "cells": [
  {
   "cell_type": "code",
   "execution_count": 1,
   "metadata": {
    "collapsed": true
   },
   "outputs": [],
   "source": [
    "import os\n",
    "from pyspark import SparkConf, SparkContext\n",
    "from pyspark.sql import SQLContext, DataFrame, Row\n",
    "from pyspark.sql import functions as spark_funcs"
   ]
  },
  {
   "cell_type": "code",
   "execution_count": 2,
   "metadata": {
    "collapsed": true
   },
   "outputs": [],
   "source": [
    "os.environ['PYSPARK_SUBMIT_ARGS'] = '--master local[*] --packages com.amazonaws:aws-java-sdk-pom:1.10.34,org.apache.hadoop:hadoop-aws:2.7.2,com.databricks:spark-csv_2.11:1.0.3 pyspark-shell'\n",
    "\n",
    "conf = (SparkConf()\n",
    "           .setMaster('local')\n",
    "           .setAppName('Spark ML'))\n",
    "\n",
    "sc = SparkContext(conf=conf)\n",
    "\n",
    "sql_ctx = SQLContext(sc)"
   ]
  },
  {
   "cell_type": "code",
   "execution_count": 7,
   "metadata": {
    "collapsed": false
   },
   "outputs": [],
   "source": [
    "# train = sql_ctx.read.csv\n",
    "train_df = sql_ctx.read.csv('dataset/kaggle-house-price/train.csv', header=True, inferSchema=True).persist()\n",
    "test_df = sql_ctx.read.csv('dataset/kaggle-house-price/test.csv', header=True, inferSchema=True).persist()"
   ]
  },
  {
   "cell_type": "code",
   "execution_count": 15,
   "metadata": {
    "collapsed": false
   },
   "outputs": [],
   "source": [
    "dtypes = train_df.dtypes\n",
    "\n",
    "# create a select dtypes function"
   ]
  }
 ],
 "metadata": {
  "kernelspec": {
   "display_name": "Python 2",
   "language": "python",
   "name": "python2"
  },
  "language_info": {
   "codemirror_mode": {
    "name": "ipython",
    "version": 2
   },
   "file_extension": ".py",
   "mimetype": "text/x-python",
   "name": "python",
   "nbconvert_exporter": "python",
   "pygments_lexer": "ipython2",
   "version": "2.7.6"
  }
 },
 "nbformat": 4,
 "nbformat_minor": 0
}
