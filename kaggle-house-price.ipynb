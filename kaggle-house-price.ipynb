{
 "cells": [
  {
   "cell_type": "code",
   "execution_count": 1,
   "metadata": {
    "collapsed": false
   },
   "outputs": [
    {
     "name": "stderr",
     "output_type": "stream",
     "text": [
      "/usr/local/lib/python2.7/dist-packages/sklearn/cross_validation.py:44: DeprecationWarning: This module was deprecated in version 0.18 in favor of the model_selection module into which all the refactored classes and functions are moved. Also note that the interface of the new CV iterators are different from that of this module. This module will be removed in 0.20.\n",
      "  \"This module will be removed in 0.20.\", DeprecationWarning)\n"
     ]
    }
   ],
   "source": [
    "import pandas as pd\n",
    "import numpy as np\n",
    "import matplotlib.pyplot as plt\n",
    "from sklearn.preprocessing import LabelEncoder\n",
    "from sklearn.cross_validation import train_test_split\n",
    "from sklearn.model_selection import cross_val_score\n",
    "from sklearn.ensemble import RandomForestRegressor, ExtraTreesRegressor\n",
    "from sklearn.linear_model import Lasso, Ridge\n",
    "from scipy.stats import skew\n",
    "\n",
    "%matplotlib inline\n",
    "plt.style.use('ggplot')"
   ]
  },
  {
   "cell_type": "code",
   "execution_count": 2,
   "metadata": {
    "collapsed": false
   },
   "outputs": [
    {
     "name": "stdout",
     "output_type": "stream",
     "text": [
      "null values:\n"
     ]
    },
    {
     "data": {
      "text/plain": [
       "Alley           2721\n",
       "BsmtCond          82\n",
       "BsmtExposure      82\n",
       "BsmtFinSF1         1\n",
       "BsmtFinSF2         1\n",
       "BsmtFinType1      79\n",
       "BsmtFinType2      80\n",
       "BsmtFullBath       2\n",
       "BsmtHalfBath       2\n",
       "BsmtQual          81\n",
       "BsmtUnfSF          1\n",
       "Electrical         1\n",
       "Exterior1st        1\n",
       "Exterior2nd        1\n",
       "Fence           2348\n",
       "FireplaceQu     1420\n",
       "Functional         2\n",
       "GarageArea         1\n",
       "GarageCars         1\n",
       "GarageCond       159\n",
       "GarageFinish     159\n",
       "GarageQual       159\n",
       "GarageType       157\n",
       "GarageYrBlt      159\n",
       "KitchenQual        1\n",
       "LotFrontage      486\n",
       "MSZoning           4\n",
       "MasVnrArea        23\n",
       "MasVnrType        24\n",
       "MiscFeature     2814\n",
       "PoolQC          2909\n",
       "SalePrice       1459\n",
       "SaleType           1\n",
       "TotalBsmtSF        1\n",
       "Utilities          2\n",
       "dtype: int64"
      ]
     },
     "execution_count": 2,
     "metadata": {},
     "output_type": "execute_result"
    }
   ],
   "source": [
    "# load training dataset\n",
    "train_df = pd.read_csv('dataset/kaggle-house-price/train.csv')\n",
    "rows_train = train_df.shape[0]\n",
    "test_df = pd.read_csv('dataset/kaggle-house-price/test.csv')\n",
    "all_data = pd.concat([train_df, test_df])\n",
    "\n",
    "# null values\n",
    "def null_values_per_col(df):\n",
    "    \"\"\"\n",
    "    Returns a Pandas Series containing the number of null values for each\n",
    "    column which has atleast 1 null value.\n",
    "    \"\"\"\n",
    "    null_cols_all = df.apply(lambda x: x.size - x.count())\n",
    "    null_cols = pd.Series()\n",
    "\n",
    "    for col, val in null_cols_all.iteritems():\n",
    "        if val > 0:\n",
    "            null_cols[col] = val\n",
    "\n",
    "    return null_cols\n",
    "\n",
    "print \"null values:\"\n",
    "null_values_per_col(all_data)"
   ]
  },
  {
   "cell_type": "markdown",
   "metadata": {},
   "source": [
    "**Fill null values 'NA' wherever possible.**"
   ]
  },
  {
   "cell_type": "code",
   "execution_count": 3,
   "metadata": {
    "collapsed": false
   },
   "outputs": [
    {
     "data": {
      "text/plain": [
       "BsmtFinSF1         1\n",
       "BsmtFinSF2         1\n",
       "BsmtFullBath       2\n",
       "BsmtHalfBath       2\n",
       "BsmtUnfSF          1\n",
       "Electrical         1\n",
       "Exterior1st        1\n",
       "Exterior2nd        1\n",
       "Functional         2\n",
       "GarageArea         1\n",
       "GarageCars         1\n",
       "GarageYrBlt      159\n",
       "KitchenQual        1\n",
       "LotFrontage      486\n",
       "MSZoning           4\n",
       "MasVnrArea        23\n",
       "MasVnrType        24\n",
       "SalePrice       1459\n",
       "SaleType           1\n",
       "TotalBsmtSF        1\n",
       "Utilities          2\n",
       "dtype: int64"
      ]
     },
     "execution_count": 3,
     "metadata": {},
     "output_type": "execute_result"
    }
   ],
   "source": [
    "def fill_cols_with_val(df, cols, val):\n",
    "    \"\"\"\n",
    "    Fill the columns specified in the DataFrame df with val\n",
    "    \"\"\"\n",
    "    for col in cols:\n",
    "        df[col].fillna(val, inplace=True)\n",
    "\n",
    "NA_cols = ['Alley', 'GarageType', 'GarageFinish', 'GarageQual', 'GarageCond',\n",
    "           'PoolQC', 'Fence', 'MiscFeature', 'FireplaceQu', 'BsmtFinType2',\n",
    "           'BsmtFinType1', 'BsmtExposure', 'BsmtCond', 'BsmtQual']\n",
    "\n",
    "# fill with 'NA'\n",
    "fill_cols_with_val(all_data, NA_cols, 'NA')\n",
    "\n",
    "# remaining columns with null values\n",
    "null_values_per_col(all_data)"
   ]
  },
  {
   "cell_type": "markdown",
   "metadata": {},
   "source": [
    "**Fill rest of the null values with appropriate values.**"
   ]
  },
  {
   "cell_type": "code",
   "execution_count": 4,
   "metadata": {
    "collapsed": false
   },
   "outputs": [
    {
     "data": {
      "text/plain": [
       "GarageYrBlt     159\n",
       "SalePrice      1459\n",
       "dtype: int64"
      ]
     },
     "execution_count": 4,
     "metadata": {},
     "output_type": "execute_result"
    }
   ],
   "source": [
    "zero_cols = ['MasVnrArea', 'BsmtFinSF1', 'BsmtFinSF2', 'BsmtFullBath',\n",
    "             'BsmtHalfBath', 'BsmtUnfSF', 'GarageArea', 'GarageCars', 'TotalBsmtSF']\n",
    "\n",
    "# fill with zero\n",
    "fill_cols_with_val(all_data, zero_cols, 0)\n",
    "\n",
    "mode_cols = ['Exterior1st', 'Exterior2nd', 'Electrical', 'Functional', 'KitchenQual',\n",
    "             'MSZoning', 'SaleType', 'Utilities']\n",
    "\n",
    "# fill with mode\n",
    "for col in mode_cols:\n",
    "    all_data[col].fillna(all_data[col].mode()[0], inplace=True)\n",
    "\n",
    "all_data['MasVnrType'].fillna('None', inplace=True)\n",
    "all_data['LotFrontage'].fillna(all_data['LotFrontage'].mean(), inplace=True)\n",
    "\n",
    "# remaining columns with null values\n",
    "null_values_per_col(all_data)"
   ]
  },
  {
   "cell_type": "markdown",
   "metadata": {},
   "source": [
    "**Encode categories using LabelEncoder**"
   ]
  },
  {
   "cell_type": "code",
   "execution_count": 5,
   "metadata": {
    "collapsed": false
   },
   "outputs": [
    {
     "data": {
      "text/html": [
       "<div>\n",
       "<table border=\"1\" class=\"dataframe\">\n",
       "  <thead>\n",
       "    <tr style=\"text-align: right;\">\n",
       "      <th></th>\n",
       "      <th>1stFlrSF</th>\n",
       "      <th>2ndFlrSF</th>\n",
       "      <th>3SsnPorch</th>\n",
       "      <th>Alley</th>\n",
       "      <th>BedroomAbvGr</th>\n",
       "      <th>BldgType</th>\n",
       "      <th>BsmtCond</th>\n",
       "      <th>BsmtExposure</th>\n",
       "      <th>BsmtFinSF1</th>\n",
       "      <th>BsmtFinSF2</th>\n",
       "      <th>...</th>\n",
       "      <th>SaleType</th>\n",
       "      <th>ScreenPorch</th>\n",
       "      <th>Street</th>\n",
       "      <th>TotRmsAbvGrd</th>\n",
       "      <th>TotalBsmtSF</th>\n",
       "      <th>Utilities</th>\n",
       "      <th>WoodDeckSF</th>\n",
       "      <th>YearBuilt</th>\n",
       "      <th>YearRemodAdd</th>\n",
       "      <th>YrSold</th>\n",
       "    </tr>\n",
       "  </thead>\n",
       "  <tbody>\n",
       "    <tr>\n",
       "      <th>0</th>\n",
       "      <td>856</td>\n",
       "      <td>854</td>\n",
       "      <td>0</td>\n",
       "      <td>1</td>\n",
       "      <td>3</td>\n",
       "      <td>0</td>\n",
       "      <td>4</td>\n",
       "      <td>4</td>\n",
       "      <td>706.0</td>\n",
       "      <td>0.0</td>\n",
       "      <td>...</td>\n",
       "      <td>8</td>\n",
       "      <td>0</td>\n",
       "      <td>1</td>\n",
       "      <td>8</td>\n",
       "      <td>856.0</td>\n",
       "      <td>0</td>\n",
       "      <td>0</td>\n",
       "      <td>2003</td>\n",
       "      <td>2003</td>\n",
       "      <td>2008</td>\n",
       "    </tr>\n",
       "    <tr>\n",
       "      <th>1</th>\n",
       "      <td>1262</td>\n",
       "      <td>0</td>\n",
       "      <td>0</td>\n",
       "      <td>1</td>\n",
       "      <td>3</td>\n",
       "      <td>0</td>\n",
       "      <td>4</td>\n",
       "      <td>1</td>\n",
       "      <td>978.0</td>\n",
       "      <td>0.0</td>\n",
       "      <td>...</td>\n",
       "      <td>8</td>\n",
       "      <td>0</td>\n",
       "      <td>1</td>\n",
       "      <td>6</td>\n",
       "      <td>1262.0</td>\n",
       "      <td>0</td>\n",
       "      <td>298</td>\n",
       "      <td>1976</td>\n",
       "      <td>1976</td>\n",
       "      <td>2007</td>\n",
       "    </tr>\n",
       "    <tr>\n",
       "      <th>2</th>\n",
       "      <td>920</td>\n",
       "      <td>866</td>\n",
       "      <td>0</td>\n",
       "      <td>1</td>\n",
       "      <td>3</td>\n",
       "      <td>0</td>\n",
       "      <td>4</td>\n",
       "      <td>2</td>\n",
       "      <td>486.0</td>\n",
       "      <td>0.0</td>\n",
       "      <td>...</td>\n",
       "      <td>8</td>\n",
       "      <td>0</td>\n",
       "      <td>1</td>\n",
       "      <td>6</td>\n",
       "      <td>920.0</td>\n",
       "      <td>0</td>\n",
       "      <td>0</td>\n",
       "      <td>2001</td>\n",
       "      <td>2002</td>\n",
       "      <td>2008</td>\n",
       "    </tr>\n",
       "    <tr>\n",
       "      <th>3</th>\n",
       "      <td>961</td>\n",
       "      <td>756</td>\n",
       "      <td>0</td>\n",
       "      <td>1</td>\n",
       "      <td>3</td>\n",
       "      <td>0</td>\n",
       "      <td>1</td>\n",
       "      <td>4</td>\n",
       "      <td>216.0</td>\n",
       "      <td>0.0</td>\n",
       "      <td>...</td>\n",
       "      <td>8</td>\n",
       "      <td>0</td>\n",
       "      <td>1</td>\n",
       "      <td>7</td>\n",
       "      <td>756.0</td>\n",
       "      <td>0</td>\n",
       "      <td>0</td>\n",
       "      <td>1915</td>\n",
       "      <td>1970</td>\n",
       "      <td>2006</td>\n",
       "    </tr>\n",
       "    <tr>\n",
       "      <th>4</th>\n",
       "      <td>1145</td>\n",
       "      <td>1053</td>\n",
       "      <td>0</td>\n",
       "      <td>1</td>\n",
       "      <td>4</td>\n",
       "      <td>0</td>\n",
       "      <td>4</td>\n",
       "      <td>0</td>\n",
       "      <td>655.0</td>\n",
       "      <td>0.0</td>\n",
       "      <td>...</td>\n",
       "      <td>8</td>\n",
       "      <td>0</td>\n",
       "      <td>1</td>\n",
       "      <td>9</td>\n",
       "      <td>1145.0</td>\n",
       "      <td>0</td>\n",
       "      <td>192</td>\n",
       "      <td>2000</td>\n",
       "      <td>2000</td>\n",
       "      <td>2008</td>\n",
       "    </tr>\n",
       "  </tbody>\n",
       "</table>\n",
       "<p>5 rows × 81 columns</p>\n",
       "</div>"
      ],
      "text/plain": [
       "   1stFlrSF  2ndFlrSF  3SsnPorch  Alley  BedroomAbvGr  BldgType  BsmtCond  \\\n",
       "0       856       854          0      1             3         0         4   \n",
       "1      1262         0          0      1             3         0         4   \n",
       "2       920       866          0      1             3         0         4   \n",
       "3       961       756          0      1             3         0         1   \n",
       "4      1145      1053          0      1             4         0         4   \n",
       "\n",
       "   BsmtExposure  BsmtFinSF1  BsmtFinSF2   ...    SaleType  ScreenPorch  \\\n",
       "0             4       706.0         0.0   ...           8            0   \n",
       "1             1       978.0         0.0   ...           8            0   \n",
       "2             2       486.0         0.0   ...           8            0   \n",
       "3             4       216.0         0.0   ...           8            0   \n",
       "4             0       655.0         0.0   ...           8            0   \n",
       "\n",
       "   Street  TotRmsAbvGrd  TotalBsmtSF  Utilities  WoodDeckSF  YearBuilt  \\\n",
       "0       1             8        856.0          0           0       2003   \n",
       "1       1             6       1262.0          0         298       1976   \n",
       "2       1             6        920.0          0           0       2001   \n",
       "3       1             7        756.0          0           0       1915   \n",
       "4       1             9       1145.0          0         192       2000   \n",
       "\n",
       "   YearRemodAdd  YrSold  \n",
       "0          2003    2008  \n",
       "1          1976    2007  \n",
       "2          2002    2008  \n",
       "3          1970    2006  \n",
       "4          2000    2008  \n",
       "\n",
       "[5 rows x 81 columns]"
      ]
     },
     "execution_count": 5,
     "metadata": {},
     "output_type": "execute_result"
    }
   ],
   "source": [
    "# Encode categories\n",
    "only_strings = all_data.select_dtypes(include=['object'])\n",
    "only_strings = only_strings.apply(LabelEncoder().fit_transform)\n",
    "all_data[only_strings.columns.values] = only_strings\n",
    "all_data.head()"
   ]
  },
  {
   "cell_type": "markdown",
   "metadata": {},
   "source": [
    "**Find skewed features and log transform them**"
   ]
  },
  {
   "cell_type": "code",
   "execution_count": 6,
   "metadata": {
    "collapsed": false
   },
   "outputs": [],
   "source": [
    "numeric_cols = all_data.dtypes[all_data.dtypes != 'object'].index\n",
    "date_price_cols = ['GarageYrBlt', 'MoSold', 'YearBuilt',\n",
    "                   'YearRemodAdd', 'YrSold', 'SalePrice']\n",
    "\n",
    "# remove date and price fields from numeric cols\n",
    "for col in date_price_cols:\n",
    "    numeric_cols = numeric_cols.delete(np.argwhere(numeric_cols == col))\n",
    "\n",
    "skewed_features = all_data[numeric_cols].apply(lambda x: skew(x))\n",
    "skewed_features = skewed_features[np.abs(skewed_features) > 0.7]\n",
    "skewed_features = skewed_features.index\n",
    "\n",
    "# log transform skewed features\n",
    "all_data[skewed_features] = all_data[skewed_features].apply(lambda x: np.log1p(x))"
   ]
  },
  {
   "cell_type": "markdown",
   "metadata": {},
   "source": [
    "**Apply LassoCV**"
   ]
  },
  {
   "cell_type": "code",
   "execution_count": 7,
   "metadata": {
    "collapsed": false
   },
   "outputs": [
    {
     "name": "stderr",
     "output_type": "stream",
     "text": [
      "/usr/local/lib/python2.7/dist-packages/ipykernel/__main__.py:3: SettingWithCopyWarning: \n",
      "A value is trying to be set on a copy of a slice from a DataFrame.\n",
      "Try using .loc[row_indexer,col_indexer] = value instead\n",
      "\n",
      "See the caveats in the documentation: http://pandas.pydata.org/pandas-docs/stable/indexing.html#indexing-view-versus-copy\n",
      "  app.launch_new_instance()\n",
      "/usr/local/lib/python2.7/dist-packages/ipykernel/__main__.py:5: SettingWithCopyWarning: \n",
      "A value is trying to be set on a copy of a slice from a DataFrame\n",
      "\n",
      "See the caveats in the documentation: http://pandas.pydata.org/pandas-docs/stable/indexing.html#indexing-view-versus-copy\n"
     ]
    }
   ],
   "source": [
    "train_data = all_data[0:rows_train]\n",
    "# log transform sale price since its skewed\n",
    "train_data['SalePrice'] = np.log1p(train_data['SalePrice'])\n",
    "test_data = all_data[rows_train:]\n",
    "test_data.drop('SalePrice', axis=1, inplace=True)\n",
    "\n",
    "x_features = train_data.columns.values.tolist()\n",
    "x_features.remove('SalePrice')\n",
    "# remove 'GarageYrBlt' since its unimportant and no default can be applied.\n",
    "x_features.remove('GarageYrBlt')\n",
    "\n",
    "X = train_data[x_features]\n",
    "y = train_data['SalePrice']"
   ]
  },
  {
   "cell_type": "code",
   "execution_count": 8,
   "metadata": {
    "collapsed": false
   },
   "outputs": [
    {
     "data": {
      "image/png": "[encoded data removed]",
      "text/plain": [
       "<matplotlib.figure.Figure at 0x7f76c2d7acd0>"
      ]
     },
     "metadata": {},
     "output_type": "display_data"
    }
   ],
   "source": [
    "# split dataset into test and train set\n",
    "X_train, X_test, y_train, y_test = train_test_split(X, y, test_size=0.2, random_state=47)\n",
    "\n",
    "# function for calculating rmse\n",
    "def rmse_cv(model, X_train, y, cv=5):\n",
    "    \"\"\"\n",
    "    Returns the root mean square error\n",
    "    \"\"\"\n",
    "    cvs = -(cross_val_score(model, X_train, y, scoring='neg_mean_squared_error', cv=cv))\n",
    "    return np.sqrt(cvs)\n",
    "\n",
    "# find optimum alpha value\n",
    "alphas = [0.0003, 0.0004, 0.0005, 0.0006, 0.0007, 0.001]\n",
    "cv_lasso = [rmse_cv(Lasso(alpha=alpha), X_train, y_train).mean() for alpha in alphas]\n",
    "cv_lasso = pd.Series(cv_lasso, index=np.log1p(alphas))\n",
    "cv_lasso.plot()\n",
    "plt.xlabel(\"alpha\")\n",
    "plt.ylabel(\"rmse\")\n",
    "plt.show()"
   ]
  },
  {
   "cell_type": "code",
   "execution_count": 9,
   "metadata": {
    "collapsed": false
   },
   "outputs": [
    {
     "data": {
      "text/plain": [
       "Lasso(alpha=0.0003, copy_X=True, fit_intercept=True, max_iter=1000,\n",
       "   normalize=False, positive=False, precompute=False, random_state=None,\n",
       "   selection='cyclic', tol=0.0001, warm_start=False)"
      ]
     },
     "execution_count": 9,
     "metadata": {},
     "output_type": "execute_result"
    }
   ],
   "source": [
    "# make lasso model with alpha = 0.0004\n",
    "lso = Lasso(alpha=0.0003)\n",
    "lso.fit(X_train, y_train)"
   ]
  },
  {
   "cell_type": "code",
   "execution_count": 10,
   "metadata": {
    "collapsed": false
   },
   "outputs": [
    {
     "name": "stdout",
     "output_type": "stream",
     "text": [
      "Lasso model selected 70 variables out of 79 variables\n"
     ]
    },
    {
     "data": {
      "image/png": "[encoded data removed]",
      "text/plain": [
       "<matplotlib.figure.Figure at 0x7f76c2d82a10>"
      ]
     },
     "metadata": {},
     "output_type": "display_data"
    }
   ],
   "source": [
    "coef = pd.Series(lso.coef_, index=X_train.columns)\n",
    "vars_selected = sum(coef != 0)\n",
    "print \"Lasso model selected %d variables out of %d variables\" % (vars_selected, len(X_train.columns))\n",
    "\n",
    "# important features\n",
    "sorted_coeffs = coef.sort_values()\n",
    "imp_coeffs = pd.concat([sorted_coeffs.head(10), sorted_coeffs.tail(10)])\n",
    "important_feats = imp_coeffs.index\n",
    "# plot important coefficients in the lasso model\n",
    "plt.figure(figsize=[8, 8])\n",
    "imp_coeffs.plot(kind='barh')\n",
    "plt.title(\"Important coefficients in lasso model\")\n",
    "plt.show();"
   ]
  },
  {
   "cell_type": "code",
   "execution_count": 11,
   "metadata": {
    "collapsed": false
   },
   "outputs": [
    {
     "data": {
      "text/plain": [
       "<matplotlib.figure.Figure at 0x7f76c0c9bfd0>"
      ]
     },
     "metadata": {},
     "output_type": "display_data"
    },
    {
     "data": {
      "image/png": "[encoded data removed]",
      "text/plain": [
       "<matplotlib.figure.Figure at 0x7f76c0b29b10>"
      ]
     },
     "metadata": {},
     "output_type": "display_data"
    }
   ],
   "source": [
    "predictions = pd.DataFrame({'pred_val': lso.predict(X_test), 'true_val': y_test})\n",
    "plt.figure(figsize=[10, 10])\n",
    "predictions['residuals'] = predictions['true_val'] - predictions['pred_val']\n",
    "predictions.plot(x='pred_val', y='residuals', kind='scatter');\n",
    "plt.show()"
   ]
  },
  {
   "cell_type": "code",
   "execution_count": 12,
   "metadata": {
    "collapsed": false
   },
   "outputs": [],
   "source": [
    "train_X = X[important_feats]\n",
    "train_y = y"
   ]
  },
  {
   "cell_type": "code",
   "execution_count": 15,
   "metadata": {
    "collapsed": false
   },
   "outputs": [
    {
     "data": {
      "text/plain": [
       "<matplotlib.figure.Figure at 0x7f76c098c6d0>"
      ]
     },
     "metadata": {},
     "output_type": "display_data"
    },
    {
     "data": {
      "image/png": "[encoded data removed]",
      "text/plain": [
       "<matplotlib.figure.Figure at 0x7f76c0c27250>"
      ]
     },
     "metadata": {},
     "output_type": "display_data"
    }
   ],
   "source": [
    "X_train, X_test, y_train, y_test = train_test_split(train_X, train_y, test_size=0.2, random_state=47)\n",
    "\n",
    "etr_model = ExtraTreesRegressor(n_estimators=5)\n",
    "etr_model.fit(X_train, y_train)\n",
    "\n",
    "predictions = pd.DataFrame({'pred_val': etr_model.predict(X_test), 'true_val': y_test})\n",
    "plt.figure(figsize=[10, 10])\n",
    "predictions['residuals'] = predictions['true_val'] - predictions['pred_val']\n",
    "predictions.plot(x='pred_val', y='residuals', kind='scatter');\n",
    "plt.show()"
   ]
  },
  {
   "cell_type": "code",
   "execution_count": 14,
   "metadata": {
    "collapsed": false
   },
   "outputs": [],
   "source": [
    "test_X = test_data[important_feats]\n",
    "y_pred = etr_model.predict(test_X)\n",
    "test_data['SalePrice'] = y_pred\n",
    "\n",
    "id_price = test_data[['Id', 'SalePrice']]\n",
    "id_price.to_csv('outputs/house_price_ext_tree1.csv', index=False)"
   ]
  }
 ],
 "metadata": {
  "kernelspec": {
   "display_name": "Python 2",
   "language": "python",
   "name": "python2"
  },
  "language_info": {
   "codemirror_mode": {
    "name": "ipython",
    "version": 2
   },
   "file_extension": ".py",
   "mimetype": "text/x-python",
   "name": "python",
   "nbconvert_exporter": "python",
   "pygments_lexer": "ipython2",
   "version": "2.7.6"
  }
 },
 "nbformat": 4,
 "nbformat_minor": 0
}
